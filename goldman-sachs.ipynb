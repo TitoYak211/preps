{
 "cells": [
  {
   "cell_type": "markdown",
   "id": "a409c3d6",
   "metadata": {},
   "source": [
    "# Climbing Stairs"
   ]
  },
  {
   "cell_type": "code",
   "execution_count": 1,
   "id": "737ab688",
   "metadata": {},
   "outputs": [],
   "source": [
    "def climbStairs(self, n: int) -> int:\n",
    "        \n",
    "        if n == 1:\n",
    "            return 1\n",
    "        if n == 2\n",
    "    \n",
    "        res = [0 for i in range(n)]\n",
    "        \n",
    "        res[0], res[1] = 1, 2\n",
    "        \n",
    "        for i in range(2, n):\n",
    "            res[i] = res[i-1] + res[i-2]\n",
    "            \n",
    "        return res[n-1]"
   ]
  },
  {
   "cell_type": "code",
   "execution_count": 3,
   "id": "1cfe0b8d",
   "metadata": {},
   "outputs": [],
   "source": [
    "def climbStairs1(self, n):\n",
    "    \n",
    "    if n <= 1:\n",
    "        return n\n",
    "    a, b = 1, 2\n",
    "    for i in range(2, n):\n",
    "        tmp = b\n",
    "        b = a+b\n",
    "        a = tmp\n",
    "    return b"
   ]
  },
  {
   "cell_type": "markdown",
   "id": "f3bdf42b",
   "metadata": {},
   "source": [
    "# Fibonacci Number"
   ]
  },
  {
   "cell_type": "code",
   "execution_count": 2,
   "id": "492d4d53",
   "metadata": {},
   "outputs": [],
   "source": [
    "def fib(self, n: int) -> int:\n",
    "    if n <= 1:\n",
    "        return n\n",
    "    elif n == 2:\n",
    "        return 1\n",
    "    else:\n",
    "        return fib(n - 1) + fib(n - 2)"
   ]
  },
  {
   "cell_type": "markdown",
   "id": "ddf64449",
   "metadata": {},
   "source": [
    "# Min Cost Climbing Stairs"
   ]
  },
  {
   "cell_type": "code",
   "execution_count": 6,
   "id": "b3828680",
   "metadata": {},
   "outputs": [],
   "source": [
    "def minCostClimbingStairs(cost):\n",
    "    x = y = 0\n",
    "    for i in range(2, len(cost) + 1):\n",
    "        x, y = min(x + cost[i - 1], y+ cost[i - 2]), x\n",
    "\n",
    "    return x"
   ]
  },
  {
   "cell_type": "markdown",
   "id": "eab48500",
   "metadata": {},
   "source": [
    "# Two Sum ii -- Input Array is Sorted"
   ]
  },
  {
   "cell_type": "code",
   "execution_count": 7,
   "id": "96c6abd2",
   "metadata": {},
   "outputs": [],
   "source": [
    "def twoSum(numbers, target):\n",
    "        left = 0\n",
    "        right = len(numbers)-1\n",
    "        while left < right:\n",
    "            if numbers[left]+numbers[right] == target:\n",
    "                return [left+1, right+1]\n",
    "            elif numbers[left]+numbers[right] < target:\n",
    "                left += 1\n",
    "            elif numbers[left]+numbers[right] > target:\n",
    "                right -= 1\n",
    "        return []"
   ]
  },
  {
   "cell_type": "markdown",
   "id": "fa06cc7e",
   "metadata": {},
   "source": [
    "# Two Sum -- Input Array is not Sorted"
   ]
  },
  {
   "cell_type": "code",
   "execution_count": 8,
   "id": "66734244",
   "metadata": {},
   "outputs": [],
   "source": [
    "def two_number_sum(array, target):\n",
    "    num_dict = {}\n",
    "    for x in array:\n",
    "        if target-x in num_dict:\n",
    "            return [target -x, x]\n",
    "        else:\n",
    "            num_dict[x] = True\n",
    "    return []"
   ]
  },
  {
   "cell_type": "markdown",
   "id": "08703d32",
   "metadata": {},
   "source": [
    "# Two Sum -- Input is a BST"
   ]
  },
  {
   "cell_type": "code",
   "execution_count": 11,
   "id": "28775805",
   "metadata": {},
   "outputs": [],
   "source": [
    "def findTarget(self, root, k):\n",
    "        stack = [root]\n",
    "        seen = set()\n",
    "        \n",
    "        while stack:\n",
    "            \n",
    "            x = stack.pop()\n",
    "            \n",
    "            y = k - x.val\n",
    "            \n",
    "            if y in seen:\n",
    "                \n",
    "                return True\n",
    "            \n",
    "            seen.add(x.val)\n",
    "            \n",
    "            if x.left:\n",
    "                stack.append(x.left)\n",
    "            if x.right:\n",
    "                stack.append(x.right)\n",
    "                \n",
    "        return False"
   ]
  },
  {
   "cell_type": "markdown",
   "id": "40496aa4",
   "metadata": {},
   "source": [
    "# Two Sum BSTs"
   ]
  },
  {
   "cell_type": "markdown",
   "id": "2e83f5b0",
   "metadata": {},
   "source": [
    "# 3Sums"
   ]
  },
  {
   "cell_type": "code",
   "execution_count": 12,
   "id": "92f96f34",
   "metadata": {},
   "outputs": [],
   "source": [
    "def threeSum(nums):\n",
    "    nums.sort()\n",
    "    triplets = []\n",
    "    for i, num in enumerate(nums):\n",
    "        if i > 0 and num == nums[i-1]:\n",
    "            continue\n",
    "\n",
    "        left = i + 1\n",
    "        right = len(nums)-1\n",
    "\n",
    "        while left < right:\n",
    "            current_sum = nums[i] + nums[left] + nums[right]\n",
    "\n",
    "            if current_sum < 0:\n",
    "                left += 1\n",
    "            elif current_sum > 0:\n",
    "                right -= 1\n",
    "            else:\n",
    "                triplets.append([nums[i], nums[left], nums[right]])\n",
    "                left +=1\n",
    "\n",
    "                while nums[left] == nums[left - 1] and left < right:\n",
    "                    left += 1\n",
    "    return triplets"
   ]
  },
  {
   "cell_type": "markdown",
   "id": "0cc2a311",
   "metadata": {},
   "source": [
    "# 3Sums Closest"
   ]
  },
  {
   "cell_type": "code",
   "execution_count": 14,
   "id": "588b8e16",
   "metadata": {},
   "outputs": [],
   "source": [
    "def threeSumClosest(nums, target):\n",
    "        nums.sort()\n",
    "        \n",
    "        diff = float('inf')\n",
    "        \n",
    "        for i in range(len(nums)):\n",
    "            \n",
    "            left = i + 1\n",
    "            right = len(nums)-1\n",
    "\n",
    "            while left < right:\n",
    "                current_sum = nums[i] + nums[left] + nums[right]\n",
    "\n",
    "                if abs(target - current_sum) < abs(diff):\n",
    "                    diff = target - current_sum\n",
    "                if current_sum < target:\n",
    "                    left += 1\n",
    "                else :\n",
    "                    right -= 1\n",
    "            if diff == 0:\n",
    "                break\n",
    "        return target - diff"
   ]
  },
  {
   "cell_type": "markdown",
   "id": "315c5fc4",
   "metadata": {},
   "source": [
    "# 3Sums smaller"
   ]
  },
  {
   "cell_type": "code",
   "execution_count": 15,
   "id": "d59dcbb6",
   "metadata": {},
   "outputs": [],
   "source": [
    "def threeSumSmaller(nums, target):\n",
    "        nums.sort()\n",
    "        count = 0\n",
    "        for i, num in enumerate(nums):\n",
    "                \n",
    "            left = i + 1\n",
    "            right = len(nums)-1\n",
    "\n",
    "            while left < right:\n",
    "                current_sum = nums[i] + nums[left] + nums[right]\n",
    "\n",
    "                if current_sum < target:\n",
    "                    count += right - left\n",
    "                    left += 1\n",
    "                else:\n",
    "                    right -= 1\n",
    "        return count"
   ]
  },
  {
   "cell_type": "markdown",
   "id": "47a73b34",
   "metadata": {},
   "source": [
    "# Two Sum Less Than K"
   ]
  },
  {
   "cell_type": "code",
   "execution_count": 16,
   "id": "97a15de1",
   "metadata": {},
   "outputs": [],
   "source": [
    "def twoSumLessThanK(nums, k):\n",
    "        ans = -1\n",
    "        \n",
    "        nums.sort()\n",
    "        \n",
    "        left = 0\n",
    "        \n",
    "        right = len(nums) - 1\n",
    "        \n",
    "        while left < right:\n",
    "            \n",
    "            sums = nums[left] + nums[right]\n",
    "            \n",
    "            if sums < k:\n",
    "                \n",
    "                ans = max(ans, sums)\n",
    "                \n",
    "                left += 1\n",
    "            else:\n",
    "                right -= 1\n",
    "        return ans"
   ]
  },
  {
   "cell_type": "code",
   "execution_count": null,
   "id": "264f2be8",
   "metadata": {},
   "outputs": [],
   "source": []
  }
 ],
 "metadata": {
  "kernelspec": {
   "display_name": "Python 3",
   "language": "python",
   "name": "python3"
  },
  "language_info": {
   "codemirror_mode": {
    "name": "ipython",
    "version": 3
   },
   "file_extension": ".py",
   "mimetype": "text/x-python",
   "name": "python",
   "nbconvert_exporter": "python",
   "pygments_lexer": "ipython3",
   "version": "3.8.10"
  }
 },
 "nbformat": 4,
 "nbformat_minor": 5
}
