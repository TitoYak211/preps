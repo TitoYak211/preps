{
 "cells": [
  {
   "cell_type": "markdown",
   "id": "b487ffc3",
   "metadata": {},
   "source": [
    "# Climbing Stairs"
   ]
  },
  {
   "cell_type": "code",
   "execution_count": 21,
   "id": "1e2eed1a",
   "metadata": {},
   "outputs": [],
   "source": [
    "def climbStairs(n):\n",
    "    if n == 1:\n",
    "        return 1\n",
    "    a, b = 1, 2\n",
    "    for i in range(2, n):\n",
    "        tmp = b\n",
    "        b = a+b\n",
    "        a = tmp\n",
    "    return b"
   ]
  },
  {
   "cell_type": "markdown",
   "id": "5e9181ce",
   "metadata": {},
   "source": [
    "# Fibonacci Number"
   ]
  },
  {
   "cell_type": "code",
   "execution_count": 22,
   "id": "c239bd6a",
   "metadata": {},
   "outputs": [],
   "source": [
    "def fib(self, n: int) -> int:\n",
    "        if n <= 1:\n",
    "            return n\n",
    "        if n == 2:\n",
    "            return 1\n",
    "        x, y = 1, 2\n",
    "        \n",
    "        for i in range(2, n):\n",
    "            x, y = y, x+y\n",
    "            \n",
    "        return x"
   ]
  },
  {
   "cell_type": "markdown",
   "id": "015a2398",
   "metadata": {},
   "source": [
    "# N-th Tribonacci Number"
   ]
  },
  {
   "cell_type": "code",
   "execution_count": null,
   "id": "ee9b98e0",
   "metadata": {},
   "outputs": [],
   "source": [
    "def tribonacci(self, n: int) -> int:\n",
    "        \n",
    "        if n <= 1:\n",
    "            return n\n",
    "        if n == 2:\n",
    "            return 1\n",
    "        x, y, z = 0, 1, 1\n",
    "        for i in range(2, n):\n",
    "            x, y, z = y, z, x + y + z\n",
    "        return z"
   ]
  },
  {
   "cell_type": "markdown",
   "id": "41358f2f",
   "metadata": {},
   "source": [
    "# Robot Return to Origin"
   ]
  },
  {
   "cell_type": "code",
   "execution_count": null,
   "id": "22af608d",
   "metadata": {},
   "outputs": [],
   "source": [
    "def judgeCircle(moves):\n",
    "    x = y = 0\n",
    "    for move in moves:\n",
    "        if move == 'U': y += 1\n",
    "        elif move == 'D': y -= 1\n",
    "        elif move == 'L': x -= 1\n",
    "        elif move == 'R': x += 1\n",
    "\n",
    "    return x == y == 0\n"
   ]
  },
  {
   "cell_type": "markdown",
   "id": "f2feee2b",
   "metadata": {},
   "source": [
    "# Min Cost Climbing Stairs"
   ]
  },
  {
   "cell_type": "code",
   "execution_count": 6,
   "id": "5960b78e",
   "metadata": {},
   "outputs": [],
   "source": [
    "def minCostClimbingStairs(cost):\n",
    "    x = y = 0\n",
    "    for i in range(2, len(cost) + 1):\n",
    "        x, y = min(x + cost[i - 1], y+ cost[i - 2]), x\n",
    "\n",
    "    return x"
   ]
  },
  {
   "cell_type": "markdown",
   "id": "e0d481d3",
   "metadata": {},
   "source": [
    "# Two Sum ii -- Input Array is Sorted"
   ]
  },
  {
   "cell_type": "code",
   "execution_count": 7,
   "id": "1c7efd16",
   "metadata": {},
   "outputs": [],
   "source": [
    "def twoSum(numbers, target):\n",
    "        left = 0\n",
    "        right = len(numbers)-1\n",
    "        while left < right:\n",
    "            if numbers[left]+numbers[right] == target:\n",
    "                return [left+1, right+1]\n",
    "            elif numbers[left]+numbers[right] < target:\n",
    "                left += 1\n",
    "            elif numbers[left]+numbers[right] > target:\n",
    "                right -= 1\n",
    "        return []"
   ]
  },
  {
   "cell_type": "markdown",
   "id": "9b5c0680",
   "metadata": {},
   "source": [
    "# Two Sum -- Input Array is not Sorted"
   ]
  },
  {
   "cell_type": "code",
   "execution_count": 8,
   "id": "57817e94",
   "metadata": {},
   "outputs": [],
   "source": [
    "def two_number_sum(array, target):\n",
    "    num_dict = {}\n",
    "    for x in array:\n",
    "        if target-x in num_dict:\n",
    "            return [target -x, x]\n",
    "        else:\n",
    "            num_dict[x] = True\n",
    "    return []"
   ]
  },
  {
   "cell_type": "markdown",
   "id": "80e19206",
   "metadata": {},
   "source": [
    "# Two Sum -- Input is a BST"
   ]
  },
  {
   "cell_type": "code",
   "execution_count": 11,
   "id": "da4dfe7a",
   "metadata": {},
   "outputs": [],
   "source": [
    "def findTarget(self, root, k):\n",
    "        stack = [root]\n",
    "        seen = set()\n",
    "        \n",
    "        while stack:\n",
    "            \n",
    "            x = stack.pop()\n",
    "            \n",
    "            y = k - x.val\n",
    "            \n",
    "            if y in seen:\n",
    "                \n",
    "                return True\n",
    "            \n",
    "            seen.add(x.val)\n",
    "            \n",
    "            if x.left:\n",
    "                stack.append(x.left)\n",
    "            if x.right:\n",
    "                stack.append(x.right)\n",
    "                \n",
    "        return False"
   ]
  },
  {
   "cell_type": "markdown",
   "id": "d64ad5bd",
   "metadata": {},
   "source": [
    "# Two Sum BSTs"
   ]
  },
  {
   "cell_type": "markdown",
   "id": "a41a2c95",
   "metadata": {},
   "source": [
    "# 3Sums"
   ]
  },
  {
   "cell_type": "code",
   "execution_count": 12,
   "id": "736e5dec",
   "metadata": {},
   "outputs": [],
   "source": [
    "def threeSum(nums):\n",
    "    nums.sort()\n",
    "    triplets = []\n",
    "    for i, num in enumerate(nums):\n",
    "        if i > 0 and num == nums[i-1]:\n",
    "            continue\n",
    "\n",
    "        left = i + 1\n",
    "        right = len(nums)-1\n",
    "\n",
    "        while left < right:\n",
    "            current_sum = nums[i] + nums[left] + nums[right]\n",
    "\n",
    "            if current_sum < 0:\n",
    "                left += 1\n",
    "            elif current_sum > 0:\n",
    "                right -= 1\n",
    "            else:\n",
    "                triplets.append([nums[i], nums[left], nums[right]])\n",
    "                left +=1\n",
    "\n",
    "                while nums[left] == nums[left - 1] and left < right:\n",
    "                    left += 1\n",
    "    return triplets"
   ]
  },
  {
   "cell_type": "markdown",
   "id": "d4a7c686",
   "metadata": {},
   "source": [
    "# 3Sums Closest"
   ]
  },
  {
   "cell_type": "code",
   "execution_count": 14,
   "id": "875511e1",
   "metadata": {},
   "outputs": [],
   "source": [
    "def threeSumClosest(nums, target):\n",
    "        nums.sort()\n",
    "        \n",
    "        diff = float('inf')\n",
    "        \n",
    "        for i in range(len(nums)):\n",
    "            \n",
    "            left = i + 1\n",
    "            right = len(nums)-1\n",
    "\n",
    "            while left < right:\n",
    "                current_sum = nums[i] + nums[left] + nums[right]\n",
    "\n",
    "                if abs(target - current_sum) < abs(diff):\n",
    "                    diff = target - current_sum\n",
    "                if current_sum < target:\n",
    "                    left += 1\n",
    "                else :\n",
    "                    right -= 1\n",
    "            if diff == 0:\n",
    "                break\n",
    "        return target - diff"
   ]
  },
  {
   "cell_type": "markdown",
   "id": "abf36c4a",
   "metadata": {},
   "source": [
    "# 3Sums smaller"
   ]
  },
  {
   "cell_type": "code",
   "execution_count": 15,
   "id": "639ff418",
   "metadata": {},
   "outputs": [],
   "source": [
    "def threeSumSmaller(nums, target):\n",
    "        nums.sort()\n",
    "        count = 0\n",
    "        for i, num in enumerate(nums):\n",
    "                \n",
    "            left = i + 1\n",
    "            right = len(nums)-1\n",
    "\n",
    "            while left < right:\n",
    "                current_sum = nums[i] + nums[left] + nums[right]\n",
    "\n",
    "                if current_sum < target:\n",
    "                    count += right - left\n",
    "                    left += 1\n",
    "                else:\n",
    "                    right -= 1\n",
    "        return count"
   ]
  },
  {
   "cell_type": "markdown",
   "id": "8b5fbe4e",
   "metadata": {},
   "source": [
    "# Two Sum Less Than K"
   ]
  },
  {
   "cell_type": "code",
   "execution_count": 16,
   "id": "76e6d739",
   "metadata": {},
   "outputs": [],
   "source": [
    "def twoSumLessThanK(nums, k):\n",
    "        ans = -1\n",
    "        \n",
    "        nums.sort()\n",
    "        \n",
    "        left = 0\n",
    "        \n",
    "        right = len(nums) - 1\n",
    "        \n",
    "        while left < right:\n",
    "            \n",
    "            sums = nums[left] + nums[right]\n",
    "            \n",
    "            if sums < k:\n",
    "                \n",
    "                ans = max(ans, sums)\n",
    "                \n",
    "                left += 1\n",
    "            else:\n",
    "                right -= 1\n",
    "        return ans"
   ]
  },
  {
   "cell_type": "markdown",
   "id": "2d761681",
   "metadata": {},
   "source": [
    "# Subarray Product Less Than K"
   ]
  },
  {
   "cell_type": "markdown",
   "id": "98ac9d92",
   "metadata": {},
   "source": [
    "# 4Sum"
   ]
  },
  {
   "cell_type": "markdown",
   "id": "7eb6ab87",
   "metadata": {},
   "source": [
    "Nums is an array of unique numbers"
   ]
  },
  {
   "cell_type": "code",
   "execution_count": 20,
   "id": "f91725f7",
   "metadata": {},
   "outputs": [],
   "source": [
    "def fourSum(nums, target):\n",
    "    quadruples = []\n",
    "    all_pair_sums = {}\n",
    "    for i in range(1, len(nums)-1):\n",
    "        for j in range(i+1, len(nums)):\n",
    "            p = nums[i] + nums[j]\n",
    "            q = target - p\n",
    "            if q in all_pair_sums:\n",
    "                for pair in all_pair_sums[q]:\n",
    "                    quadruples.append(pair + [nums[i], nums[j]])\n",
    "        for k in range(i):\n",
    "            q = nums[k] + nums[i]\n",
    "            if q in all_pair_sums:\n",
    "                all_pair_sums[q].append([nums[k], nums[i]])\n",
    "            else:\n",
    "                all_pair_sums[q] = [[nums[k], nums[i]]]\n",
    "    return quadruples"
   ]
  },
  {
   "cell_type": "markdown",
   "id": "41a016d4",
   "metadata": {},
   "source": [
    "# High Five"
   ]
  },
  {
   "cell_type": "code",
   "execution_count": null,
   "id": "844e05a6",
   "metadata": {},
   "outputs": [],
   "source": [
    "def highFive(self, items: List[List[int]]) -> List[List[int]]:\n",
    "    scores = {}\n",
    "    result = []\n",
    "    for x in items:\n",
    "        if x[0] in scores:\n",
    "            scores[x[0]].append(x[1])\n",
    "        else:\n",
    "            scores[x[0]] = [x[1]]\n",
    "\n",
    "    for x, y in sorted(scores.items()):\n",
    "        y.sort(reverse=True)\n",
    "        total = 0\n",
    "        i = 0\n",
    "        while i < 5:\n",
    "            total += y[i]\n",
    "            i += 1\n",
    "        result.append([x, total//i])\n",
    "    return result\n"
   ]
  },
  {
   "cell_type": "markdown",
   "id": "ed9d99ec",
   "metadata": {},
   "source": [
    "# Valid Palindrome"
   ]
  },
  {
   "cell_type": "code",
   "execution_count": 25,
   "id": "cd991e60",
   "metadata": {},
   "outputs": [],
   "source": [
    "def isPalindrome(s):\n",
    "    left = 0\n",
    "    right = len(s)-1\n",
    "    while left < right:\n",
    "        while left < right and not s[left].isalnum():\n",
    "            left += 1\n",
    "        while left < right and not s[right].isalnum():\n",
    "            right -= 1\n",
    "\n",
    "        if s[left].lower() != s[right].lower():\n",
    "            return False\n",
    "        else:\n",
    "            right -=1\n",
    "            left += 1\n",
    "    return True"
   ]
  },
  {
   "cell_type": "markdown",
   "id": "4b77da7b",
   "metadata": {},
   "source": [
    "# Valid Palindrome ii"
   ]
  },
  {
   "cell_type": "code",
   "execution_count": 26,
   "id": "750db623",
   "metadata": {},
   "outputs": [],
   "source": [
    "def validPalindrome(self, s: str) -> bool:\n",
    "    left, right = 0, len(s) - 1\n",
    "    \n",
    "    while left < right:\n",
    "        if s[left] != s[right]:\n",
    "            one, two = s[left:right], s[left + 1:right + 1]\n",
    "            return one == one[::-1] or two == two[::-1]\n",
    "        left, right = left + 1, right - 1\n",
    "    return True"
   ]
  },
  {
   "cell_type": "markdown",
   "id": "44e35b47",
   "metadata": {},
   "source": [
    "# Valid Anagram"
   ]
  },
  {
   "cell_type": "code",
   "execution_count": 27,
   "id": "1105668f",
   "metadata": {},
   "outputs": [],
   "source": [
    "def isAnagram(s, t):\n",
    "    if len(s) != len(t):\n",
    "        return False\n",
    "    dic = {}\n",
    "\n",
    "    for i in s:\n",
    "        if i not in dic:\n",
    "            dic[i] = 1\n",
    "        else:\n",
    "            dic[i] += 1\n",
    "\n",
    "    for j in t:\n",
    "        if j not in dic:\n",
    "            return False\n",
    "        else:\n",
    "            dic[j] -= 1\n",
    "\n",
    "    for val in dic.values():\n",
    "        if val != 0:\n",
    "            return False\n",
    "\n",
    "    return True"
   ]
  },
  {
   "cell_type": "markdown",
   "id": "90b8aabc",
   "metadata": {},
   "source": [
    "# Best Time to buy and sell Stock"
   ]
  },
  {
   "cell_type": "code",
   "execution_count": 30,
   "id": "87157e4e",
   "metadata": {},
   "outputs": [],
   "source": [
    "def maxProfit(prices):\n",
    "        min_price = float('inf')\n",
    "        sell = buy = profit = 0\n",
    "        for i in range(len(prices)):\n",
    "            if prices[i] < min_price:\n",
    "                min_price = prices[i]\n",
    "            else:\n",
    "                profit = max(profit, prices[i] - min_price)\n",
    "        \n",
    "        return profit"
   ]
  },
  {
   "cell_type": "markdown",
   "id": "73d01922",
   "metadata": {},
   "source": [
    "# Remove Duplicates from Sorted Array"
   ]
  },
  {
   "cell_type": "code",
   "execution_count": null,
   "id": "7ad2adfc",
   "metadata": {},
   "outputs": [],
   "source": [
    "def removeDuplicates(nums):\n",
    "        # index = 1\n",
    "        # for i in range(1, len(nums)):\n",
    "        #     if nums[i] != nums[i-1]:\n",
    "        #         nums[index] = nums[i]\n",
    "        #         index +=1  \n",
    "        # return index\n",
    "        \n",
    "        i = 1\n",
    "        while i < len(nums):\n",
    "            if nums[i] == nums[i-1]:\n",
    "                nums.pop(i)\n",
    "                i -= 1\n",
    "            i +=1\n",
    "            \n",
    "        return len(nums)"
   ]
  },
  {
   "cell_type": "markdown",
   "id": "accde4ec",
   "metadata": {},
   "source": [
    "# Remove Duplicates from Sorted Array ii"
   ]
  },
  {
   "cell_type": "code",
   "execution_count": 31,
   "id": "815d5700",
   "metadata": {},
   "outputs": [],
   "source": [
    "def removeDuplicates(nums):\n",
    "        \n",
    "        i = count = 1\n",
    "        \n",
    "        while i < len(nums):\n",
    "            if nums[i] == nums[i-1]:\n",
    "                count +=1\n",
    "                if count > 2:\n",
    "                    nums.pop(i)\n",
    "                    i -= 1\n",
    "            else:\n",
    "                count = 1\n",
    "            \n",
    "            i += 1\n",
    "                    \n",
    "        return len(nums)"
   ]
  },
  {
   "cell_type": "markdown",
   "id": "85084460",
   "metadata": {},
   "source": [
    "# Count Primes"
   ]
  },
  {
   "cell_type": "code",
   "execution_count": 32,
   "id": "c35d94e5",
   "metadata": {},
   "outputs": [],
   "source": [
    "def countPrimes(n):\n",
    "    if n < 3:\n",
    "        return 0\n",
    "    lst = [1] * n\n",
    "\n",
    "    count = 0\n",
    "\n",
    "    lst[0] = lst[1] = 0\n",
    "    m = 2\n",
    "    while m * m < n:\n",
    "        if lst[m]:\n",
    "            for i in range(m * m, n, m):\n",
    "                lst[i] = 0\n",
    "\n",
    "        m += 1 if m == 2 else 2\n",
    "\n",
    "    return sum(lst)"
   ]
  },
  {
   "cell_type": "markdown",
   "id": "32bb2918",
   "metadata": {},
   "source": [
    "# Excel Sheet Column Number"
   ]
  },
  {
   "cell_type": "code",
   "execution_count": 1,
   "id": "ec216c10",
   "metadata": {},
   "outputs": [],
   "source": [
    "def titleToNumber(columnTitle):\n",
    "        \n",
    "        s = columnTitle[::-1]\n",
    "        \n",
    "        res = 0\n",
    "        \n",
    "        for i in range(len(columnTitle)):\n",
    "            \n",
    "            res += 26**i * (ord(s[i]) - ord('A') + 1)\n",
    "            \n",
    "        return res"
   ]
  },
  {
   "cell_type": "code",
   "execution_count": null,
   "id": "5199ea97",
   "metadata": {},
   "outputs": [],
   "source": []
  }
 ],
 "metadata": {
  "kernelspec": {
   "display_name": "Python 3",
   "language": "python",
   "name": "python3"
  },
  "language_info": {
   "codemirror_mode": {
    "name": "ipython",
    "version": 3
   },
   "file_extension": ".py",
   "mimetype": "text/x-python",
   "name": "python",
   "nbconvert_exporter": "python",
   "pygments_lexer": "ipython3",
   "version": "3.8.10"
  }
 },
 "nbformat": 4,
 "nbformat_minor": 5
}
