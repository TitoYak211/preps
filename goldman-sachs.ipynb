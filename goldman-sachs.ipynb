{
 "cells": [
  {
   "cell_type": "markdown",
   "id": "543c1ad2",
   "metadata": {},
   "source": [
    "# Climbing Stairs"
   ]
  },
  {
   "cell_type": "code",
   "execution_count": 1,
   "id": "6995e017",
   "metadata": {},
   "outputs": [],
   "source": [
    "def climbStairs(self, n: int) -> int:\n",
    "        \n",
    "        if n == 1:\n",
    "            return 1\n",
    "        if n == 2\n",
    "    \n",
    "        res = [0 for i in range(n)]\n",
    "        \n",
    "        res[0], res[1] = 1, 2\n",
    "        \n",
    "        for i in range(2, n):\n",
    "            res[i] = res[i-1] + res[i-2]\n",
    "            \n",
    "        return res[n-1]"
   ]
  },
  {
   "cell_type": "code",
   "execution_count": 3,
   "id": "0bc82f3a",
   "metadata": {},
   "outputs": [],
   "source": [
    "def climbStairs1(self, n):\n",
    "    \n",
    "    if n <= 1:\n",
    "        return n\n",
    "    a, b = 1, 2\n",
    "    for i in range(2, n):\n",
    "        tmp = b\n",
    "        b = a+b\n",
    "        a = tmp\n",
    "    return b"
   ]
  },
  {
   "cell_type": "markdown",
   "id": "0009cfd3",
   "metadata": {},
   "source": [
    "# Fibonacci Number"
   ]
  },
  {
   "cell_type": "code",
   "execution_count": 2,
   "id": "1f000ea5",
   "metadata": {},
   "outputs": [],
   "source": [
    "def fib(self, n: int) -> int:\n",
    "    if n <= 1:\n",
    "        return n\n",
    "    elif n == 2:\n",
    "        return 1\n",
    "    else:\n",
    "        return fib(n - 1) + fib(n - 2)"
   ]
  },
  {
   "cell_type": "markdown",
   "id": "09ee7a89",
   "metadata": {},
   "source": [
    "# Min Cost Climbing Stairs"
   ]
  },
  {
   "cell_type": "code",
   "execution_count": 6,
   "id": "a258a949",
   "metadata": {},
   "outputs": [],
   "source": [
    "def minCostClimbingStairs(cost):\n",
    "    x = y = 0\n",
    "    for i in range(2, len(cost) + 1):\n",
    "        x, y = min(x + cost[i - 1], y+ cost[i - 2]), x\n",
    "\n",
    "    return x"
   ]
  },
  {
   "cell_type": "markdown",
   "id": "78c359ae",
   "metadata": {},
   "source": [
    "# Two Sum ii -- Input Array is Sorted"
   ]
  },
  {
   "cell_type": "code",
   "execution_count": 7,
   "id": "d035668f",
   "metadata": {},
   "outputs": [],
   "source": [
    "def twoSum(numbers, target):\n",
    "        left = 0\n",
    "        right = len(numbers)-1\n",
    "        while left < right:\n",
    "            if numbers[left]+numbers[right] == target:\n",
    "                return [left+1, right+1]\n",
    "            elif numbers[left]+numbers[right] < target:\n",
    "                left += 1\n",
    "            elif numbers[left]+numbers[right] > target:\n",
    "                right -= 1\n",
    "        return []"
   ]
  },
  {
   "cell_type": "markdown",
   "id": "ca83578c",
   "metadata": {},
   "source": [
    "# Two Sum -- Input Array is not Sorted"
   ]
  },
  {
   "cell_type": "code",
   "execution_count": 8,
   "id": "330832f4",
   "metadata": {},
   "outputs": [],
   "source": [
    "def two_number_sum(array, target):\n",
    "    num_dict = {}\n",
    "    for x in array:\n",
    "        if target-x in num_dict:\n",
    "            return [target -x, x]\n",
    "        else:\n",
    "            num_dict[x] = True\n",
    "    return []"
   ]
  },
  {
   "cell_type": "markdown",
   "id": "66c6a05e",
   "metadata": {},
   "source": [
    "# Two Sum -- Input is a BST"
   ]
  },
  {
   "cell_type": "code",
   "execution_count": 11,
   "id": "df66398c",
   "metadata": {},
   "outputs": [],
   "source": [
    "def findTarget(self, root, k):\n",
    "        stack = [root]\n",
    "        seen = set()\n",
    "        \n",
    "        while stack:\n",
    "            \n",
    "            x = stack.pop()\n",
    "            \n",
    "            y = k - x.val\n",
    "            \n",
    "            if y in seen:\n",
    "                \n",
    "                return True\n",
    "            \n",
    "            seen.add(x.val)\n",
    "            \n",
    "            if x.left:\n",
    "                stack.append(x.left)\n",
    "            if x.right:\n",
    "                stack.append(x.right)\n",
    "                \n",
    "        return False"
   ]
  },
  {
   "cell_type": "markdown",
   "id": "3a33e712",
   "metadata": {},
   "source": [
    "# Two Sum BSTs"
   ]
  },
  {
   "cell_type": "code",
   "execution_count": null,
   "id": "579f3084",
   "metadata": {},
   "outputs": [],
   "source": []
  }
 ],
 "metadata": {
  "kernelspec": {
   "display_name": "Python 3",
   "language": "python",
   "name": "python3"
  },
  "language_info": {
   "codemirror_mode": {
    "name": "ipython",
    "version": 3
   },
   "file_extension": ".py",
   "mimetype": "text/x-python",
   "name": "python",
   "nbconvert_exporter": "python",
   "pygments_lexer": "ipython3",
   "version": "3.8.10"
  }
 },
 "nbformat": 4,
 "nbformat_minor": 5
}
