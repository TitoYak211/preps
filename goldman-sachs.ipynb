{
 "cells": [
  {
   "cell_type": "markdown",
   "id": "c6a56f6d",
   "metadata": {},
   "source": [
    "# Climbing Stairs"
   ]
  },
  {
   "cell_type": "code",
   "execution_count": 1,
   "id": "33dee733",
   "metadata": {},
   "outputs": [],
   "source": [
    "def climbStairs(self, n: int) -> int:\n",
    "        \n",
    "        if n == 1:\n",
    "            return 1\n",
    "        if n == 2\n",
    "    \n",
    "        res = [0 for i in range(n)]\n",
    "        \n",
    "        res[0], res[1] = 1, 2\n",
    "        \n",
    "        for i in range(2, n):\n",
    "            res[i] = res[i-1] + res[i-2]\n",
    "            \n",
    "        return res[n-1]"
   ]
  },
  {
   "cell_type": "code",
   "execution_count": 3,
   "id": "ce5085e9",
   "metadata": {},
   "outputs": [],
   "source": [
    "def climbStairs1(self, n):\n",
    "    \n",
    "    if n <= 1:\n",
    "        return n\n",
    "    a, b = 1, 2\n",
    "    for i in range(2, n):\n",
    "        tmp = b\n",
    "        b = a+b\n",
    "        a = tmp\n",
    "    return b"
   ]
  },
  {
   "cell_type": "markdown",
   "id": "41c2c8ea",
   "metadata": {},
   "source": [
    "# Fibonacci Number"
   ]
  },
  {
   "cell_type": "code",
   "execution_count": 2,
   "id": "3424a8da",
   "metadata": {},
   "outputs": [],
   "source": [
    "def fib(self, n: int) -> int:\n",
    "    if n <= 1:\n",
    "        return n\n",
    "    elif n == 2:\n",
    "        return 1\n",
    "    else:\n",
    "        return fib(n - 1) + fib(n - 2)"
   ]
  },
  {
   "cell_type": "markdown",
   "id": "13091f91",
   "metadata": {},
   "source": [
    "# Min Cost Climbing Stairs"
   ]
  },
  {
   "cell_type": "code",
   "execution_count": 6,
   "id": "a5f47644",
   "metadata": {},
   "outputs": [],
   "source": [
    "def minCostClimbingStairs(cost):\n",
    "    x = y = 0\n",
    "    for i in range(2, len(cost) + 1):\n",
    "        x, y = min(x + cost[i - 1], y+ cost[i - 2]), x\n",
    "\n",
    "    return x"
   ]
  },
  {
   "cell_type": "markdown",
   "id": "41ac974b",
   "metadata": {},
   "source": [
    "# Two Sum ii -- Input Array is Sorted"
   ]
  },
  {
   "cell_type": "code",
   "execution_count": 7,
   "id": "df03aaf2",
   "metadata": {},
   "outputs": [],
   "source": [
    "def twoSum(numbers, target):\n",
    "        left = 0\n",
    "        right = len(numbers)-1\n",
    "        while left < right:\n",
    "            if numbers[left]+numbers[right] == target:\n",
    "                return [left+1, right+1]\n",
    "            elif numbers[left]+numbers[right] < target:\n",
    "                left += 1\n",
    "            elif numbers[left]+numbers[right] > target:\n",
    "                right -= 1\n",
    "        return []"
   ]
  },
  {
   "cell_type": "markdown",
   "id": "b07f46d7",
   "metadata": {},
   "source": [
    "# Two Sum -- Input Array is not Sorted"
   ]
  },
  {
   "cell_type": "code",
   "execution_count": 8,
   "id": "3aef6376",
   "metadata": {},
   "outputs": [],
   "source": [
    "def two_number_sum(array, target):\n",
    "    num_dict = {}\n",
    "    for x in array:\n",
    "        if target-x in num_dict:\n",
    "            return [target -x, x]\n",
    "        else:\n",
    "            num_dict[x] = True\n",
    "    return []"
   ]
  },
  {
   "cell_type": "markdown",
   "id": "ea615390",
   "metadata": {},
   "source": [
    "# Two Sum -- Input is a BST"
   ]
  },
  {
   "cell_type": "code",
   "execution_count": 11,
   "id": "6a0491f8",
   "metadata": {},
   "outputs": [],
   "source": [
    "def findTarget(self, root, k):\n",
    "        stack = [root]\n",
    "        seen = set()\n",
    "        \n",
    "        while stack:\n",
    "            \n",
    "            x = stack.pop()\n",
    "            \n",
    "            y = k - x.val\n",
    "            \n",
    "            if y in seen:\n",
    "                \n",
    "                return True\n",
    "            \n",
    "            seen.add(x.val)\n",
    "            \n",
    "            if x.left:\n",
    "                stack.append(x.left)\n",
    "            if x.right:\n",
    "                stack.append(x.right)\n",
    "                \n",
    "        return False"
   ]
  },
  {
   "cell_type": "markdown",
   "id": "81114dec",
   "metadata": {},
   "source": [
    "# Two Sum BSTs"
   ]
  },
  {
   "cell_type": "markdown",
   "id": "a11c8e41",
   "metadata": {},
   "source": [
    "# 3Sums"
   ]
  },
  {
   "cell_type": "code",
   "execution_count": 12,
   "id": "430fc82c",
   "metadata": {},
   "outputs": [],
   "source": [
    "def threeSum(nums):\n",
    "    nums.sort()\n",
    "    triplets = []\n",
    "    for i, num in enumerate(nums):\n",
    "        if i > 0 and num == nums[i-1]:\n",
    "            continue\n",
    "\n",
    "        left = i + 1\n",
    "        right = len(nums)-1\n",
    "\n",
    "        while left < right:\n",
    "            current_sum = nums[i] + nums[left] + nums[right]\n",
    "\n",
    "            if current_sum < 0:\n",
    "                left += 1\n",
    "            elif current_sum > 0:\n",
    "                right -= 1\n",
    "            else:\n",
    "                triplets.append([nums[i], nums[left], nums[right]])\n",
    "                left +=1\n",
    "\n",
    "                while nums[left] == nums[left - 1] and left < right:\n",
    "                    left += 1\n",
    "    return triplets"
   ]
  },
  {
   "cell_type": "markdown",
   "id": "09da8b36",
   "metadata": {},
   "source": [
    "# 3Sums Closest"
   ]
  },
  {
   "cell_type": "code",
   "execution_count": 14,
   "id": "5cf28723",
   "metadata": {},
   "outputs": [],
   "source": [
    "def threeSumClosest(nums, target):\n",
    "        nums.sort()\n",
    "        \n",
    "        diff = float('inf')\n",
    "        \n",
    "        for i in range(len(nums)):\n",
    "            \n",
    "            left = i + 1\n",
    "            right = len(nums)-1\n",
    "\n",
    "            while left < right:\n",
    "                current_sum = nums[i] + nums[left] + nums[right]\n",
    "\n",
    "                if abs(target - current_sum) < abs(diff):\n",
    "                    diff = target - current_sum\n",
    "                if current_sum < target:\n",
    "                    left += 1\n",
    "                else :\n",
    "                    right -= 1\n",
    "            if diff == 0:\n",
    "                break\n",
    "        return target - diff"
   ]
  },
  {
   "cell_type": "code",
   "execution_count": null,
   "id": "08f4736f",
   "metadata": {},
   "outputs": [],
   "source": [
    "3Sums "
   ]
  }
 ],
 "metadata": {
  "kernelspec": {
   "display_name": "Python 3",
   "language": "python",
   "name": "python3"
  },
  "language_info": {
   "codemirror_mode": {
    "name": "ipython",
    "version": 3
   },
   "file_extension": ".py",
   "mimetype": "text/x-python",
   "name": "python",
   "nbconvert_exporter": "python",
   "pygments_lexer": "ipython3",
   "version": "3.8.10"
  }
 },
 "nbformat": 4,
 "nbformat_minor": 5
}
