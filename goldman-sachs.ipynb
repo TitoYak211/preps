{
 "cells": [
  {
   "cell_type": "markdown",
   "id": "74d8b839",
   "metadata": {},
   "source": [
    "# Climbing Stairs"
   ]
  },
  {
   "cell_type": "code",
   "execution_count": 21,
   "id": "c6c59208",
   "metadata": {},
   "outputs": [],
   "source": [
    "def climbStairs(n):\n",
    "    if n == 1:\n",
    "        return 1\n",
    "    a, b = 1, 2\n",
    "    for i in range(2, n):\n",
    "        tmp = b\n",
    "        b = a+b\n",
    "        a = tmp\n",
    "    return b"
   ]
  },
  {
   "cell_type": "markdown",
   "id": "3ed9ac8b",
   "metadata": {},
   "source": [
    "# Fibonacci Number"
   ]
  },
  {
   "cell_type": "code",
   "execution_count": 22,
   "id": "c5a6d259",
   "metadata": {},
   "outputs": [],
   "source": [
    "def fib(self, n: int) -> int:\n",
    "        if n <= 1:\n",
    "            return n\n",
    "        if n == 2:\n",
    "            return 1\n",
    "        x, y = 1, 2\n",
    "        \n",
    "        for i in range(2, n):\n",
    "            x, y = y, x+y\n",
    "            \n",
    "        return x"
   ]
  },
  {
   "cell_type": "markdown",
   "id": "b6dd6f95",
   "metadata": {},
   "source": [
    "# N-th Tribonacci Number"
   ]
  },
  {
   "cell_type": "code",
   "execution_count": null,
   "id": "cfd56682",
   "metadata": {},
   "outputs": [],
   "source": [
    "def tribonacci(self, n: int) -> int:\n",
    "        \n",
    "        if n <= 1:\n",
    "            return n\n",
    "        if n == 2:\n",
    "            return 1\n",
    "        x, y, z = 0, 1, 1\n",
    "        for i in range(2, n):\n",
    "            x, y, z = y, z, x + y + z\n",
    "        return z"
   ]
  },
  {
   "cell_type": "markdown",
   "id": "fa4828c4",
   "metadata": {},
   "source": [
    "# Robot Return to Origin"
   ]
  },
  {
   "cell_type": "code",
   "execution_count": null,
   "id": "cb3933fc",
   "metadata": {},
   "outputs": [],
   "source": [
    "def judgeCircle(moves):\n",
    "    x = y = 0\n",
    "    for move in moves:\n",
    "        if move == 'U': y += 1\n",
    "        elif move == 'D': y -= 1\n",
    "        elif move == 'L': x -= 1\n",
    "        elif move == 'R': x += 1\n",
    "\n",
    "    return x == y == 0\n"
   ]
  },
  {
   "cell_type": "markdown",
   "id": "eda08bf7",
   "metadata": {},
   "source": [
    "# Min Cost Climbing Stairs"
   ]
  },
  {
   "cell_type": "code",
   "execution_count": 6,
   "id": "c1fc3fd7",
   "metadata": {},
   "outputs": [],
   "source": [
    "def minCostClimbingStairs(cost):\n",
    "    x = y = 0\n",
    "    for i in range(2, len(cost) + 1):\n",
    "        x, y = min(x + cost[i - 1], y+ cost[i - 2]), x\n",
    "\n",
    "    return x"
   ]
  },
  {
   "cell_type": "markdown",
   "id": "64e41c34",
   "metadata": {},
   "source": [
    "# Two Sum ii -- Input Array is Sorted"
   ]
  },
  {
   "cell_type": "code",
   "execution_count": 7,
   "id": "087be177",
   "metadata": {},
   "outputs": [],
   "source": [
    "def twoSum(numbers, target):\n",
    "        left = 0\n",
    "        right = len(numbers)-1\n",
    "        while left < right:\n",
    "            if numbers[left]+numbers[right] == target:\n",
    "                return [left+1, right+1]\n",
    "            elif numbers[left]+numbers[right] < target:\n",
    "                left += 1\n",
    "            elif numbers[left]+numbers[right] > target:\n",
    "                right -= 1\n",
    "        return []"
   ]
  },
  {
   "cell_type": "markdown",
   "id": "17851b7c",
   "metadata": {},
   "source": [
    "# Two Sum -- Input Array is not Sorted"
   ]
  },
  {
   "cell_type": "code",
   "execution_count": 8,
   "id": "15729ce2",
   "metadata": {},
   "outputs": [],
   "source": [
    "def two_number_sum(array, target):\n",
    "    num_dict = {}\n",
    "    for x in array:\n",
    "        if target-x in num_dict:\n",
    "            return [target -x, x]\n",
    "        else:\n",
    "            num_dict[x] = True\n",
    "    return []"
   ]
  },
  {
   "cell_type": "markdown",
   "id": "93253339",
   "metadata": {},
   "source": [
    "# Two Sum -- Input is a BST"
   ]
  },
  {
   "cell_type": "code",
   "execution_count": 11,
   "id": "c8a2b4dc",
   "metadata": {},
   "outputs": [],
   "source": [
    "def findTarget(self, root, k):\n",
    "        stack = [root]\n",
    "        seen = set()\n",
    "        \n",
    "        while stack:\n",
    "            \n",
    "            x = stack.pop()\n",
    "            \n",
    "            y = k - x.val\n",
    "            \n",
    "            if y in seen:\n",
    "                \n",
    "                return True\n",
    "            \n",
    "            seen.add(x.val)\n",
    "            \n",
    "            if x.left:\n",
    "                stack.append(x.left)\n",
    "            if x.right:\n",
    "                stack.append(x.right)\n",
    "                \n",
    "        return False"
   ]
  },
  {
   "cell_type": "markdown",
   "id": "f173c9ec",
   "metadata": {},
   "source": [
    "# Two Sum BSTs"
   ]
  },
  {
   "cell_type": "markdown",
   "id": "e22ff9d5",
   "metadata": {},
   "source": [
    "# 3Sums"
   ]
  },
  {
   "cell_type": "code",
   "execution_count": 12,
   "id": "b25f6614",
   "metadata": {},
   "outputs": [],
   "source": [
    "def threeSum(nums):\n",
    "    nums.sort()\n",
    "    triplets = []\n",
    "    for i, num in enumerate(nums):\n",
    "        if i > 0 and num == nums[i-1]:\n",
    "            continue\n",
    "\n",
    "        left = i + 1\n",
    "        right = len(nums)-1\n",
    "\n",
    "        while left < right:\n",
    "            current_sum = nums[i] + nums[left] + nums[right]\n",
    "\n",
    "            if current_sum < 0:\n",
    "                left += 1\n",
    "            elif current_sum > 0:\n",
    "                right -= 1\n",
    "            else:\n",
    "                triplets.append([nums[i], nums[left], nums[right]])\n",
    "                left +=1\n",
    "\n",
    "                while nums[left] == nums[left - 1] and left < right:\n",
    "                    left += 1\n",
    "    return triplets"
   ]
  },
  {
   "cell_type": "markdown",
   "id": "f7f54a0a",
   "metadata": {},
   "source": [
    "# 3Sums Closest"
   ]
  },
  {
   "cell_type": "code",
   "execution_count": 14,
   "id": "8d750c33",
   "metadata": {},
   "outputs": [],
   "source": [
    "def threeSumClosest(nums, target):\n",
    "        nums.sort()\n",
    "        \n",
    "        diff = float('inf')\n",
    "        \n",
    "        for i in range(len(nums)):\n",
    "            \n",
    "            left = i + 1\n",
    "            right = len(nums)-1\n",
    "\n",
    "            while left < right:\n",
    "                current_sum = nums[i] + nums[left] + nums[right]\n",
    "\n",
    "                if abs(target - current_sum) < abs(diff):\n",
    "                    diff = target - current_sum\n",
    "                if current_sum < target:\n",
    "                    left += 1\n",
    "                else :\n",
    "                    right -= 1\n",
    "            if diff == 0:\n",
    "                break\n",
    "        return target - diff"
   ]
  },
  {
   "cell_type": "markdown",
   "id": "b4456cf4",
   "metadata": {},
   "source": [
    "# 3Sums smaller"
   ]
  },
  {
   "cell_type": "code",
   "execution_count": 15,
   "id": "7dca72c6",
   "metadata": {},
   "outputs": [],
   "source": [
    "def threeSumSmaller(nums, target):\n",
    "        nums.sort()\n",
    "        count = 0\n",
    "        for i, num in enumerate(nums):\n",
    "                \n",
    "            left = i + 1\n",
    "            right = len(nums)-1\n",
    "\n",
    "            while left < right:\n",
    "                current_sum = nums[i] + nums[left] + nums[right]\n",
    "\n",
    "                if current_sum < target:\n",
    "                    count += right - left\n",
    "                    left += 1\n",
    "                else:\n",
    "                    right -= 1\n",
    "        return count"
   ]
  },
  {
   "cell_type": "markdown",
   "id": "82805f3d",
   "metadata": {},
   "source": [
    "# Two Sum Less Than K"
   ]
  },
  {
   "cell_type": "code",
   "execution_count": 16,
   "id": "d011ee54",
   "metadata": {},
   "outputs": [],
   "source": [
    "def twoSumLessThanK(nums, k):\n",
    "        ans = -1\n",
    "        \n",
    "        nums.sort()\n",
    "        \n",
    "        left = 0\n",
    "        \n",
    "        right = len(nums) - 1\n",
    "        \n",
    "        while left < right:\n",
    "            \n",
    "            sums = nums[left] + nums[right]\n",
    "            \n",
    "            if sums < k:\n",
    "                \n",
    "                ans = max(ans, sums)\n",
    "                \n",
    "                left += 1\n",
    "            else:\n",
    "                right -= 1\n",
    "        return ans"
   ]
  },
  {
   "cell_type": "markdown",
   "id": "031c3271",
   "metadata": {},
   "source": [
    "# Subarray Product Less Than K"
   ]
  },
  {
   "cell_type": "markdown",
   "id": "b73405c0",
   "metadata": {},
   "source": [
    "# 4Sum"
   ]
  },
  {
   "cell_type": "markdown",
   "id": "f24ddb67",
   "metadata": {},
   "source": [
    "Nums is an array of unique numbers"
   ]
  },
  {
   "cell_type": "code",
   "execution_count": 20,
   "id": "d8696728",
   "metadata": {},
   "outputs": [],
   "source": [
    "def fourSum(nums, target):\n",
    "    quadruples = []\n",
    "    all_pair_sums = {}\n",
    "    for i in range(1, len(nums)-1):\n",
    "        for j in range(i+1, len(nums)):\n",
    "            p = nums[i] + nums[j]\n",
    "            q = target - p\n",
    "            if q in all_pair_sums:\n",
    "                for pair in all_pair_sums[q]:\n",
    "                    quadruples.append(pair + [nums[i], nums[j]])\n",
    "        for k in range(i):\n",
    "            q = nums[k] + nums[i]\n",
    "            if q in all_pair_sums:\n",
    "                all_pair_sums[q].append([nums[k], nums[i]])\n",
    "            else:\n",
    "                all_pair_sums[q] = [[nums[k], nums[i]]]\n",
    "    return quadruples"
   ]
  },
  {
   "cell_type": "markdown",
   "id": "fb29e2b2",
   "metadata": {},
   "source": [
    "# High Five"
   ]
  },
  {
   "cell_type": "code",
   "execution_count": null,
   "id": "368908ce",
   "metadata": {},
   "outputs": [],
   "source": [
    "def highFive(self, items: List[List[int]]) -> List[List[int]]:\n",
    "    scores = {}\n",
    "    result = []\n",
    "    for x in items:\n",
    "        if x[0] in scores:\n",
    "            scores[x[0]].append(x[1])\n",
    "        else:\n",
    "            scores[x[0]] = [x[1]]\n",
    "\n",
    "    for x, y in sorted(scores.items()):\n",
    "        y.sort(reverse=True)\n",
    "        total = 0\n",
    "        i = 0\n",
    "        while i < 5:\n",
    "            total += y[i]\n",
    "            i += 1\n",
    "        result.append([x, total//i])\n",
    "    return result\n"
   ]
  },
  {
   "cell_type": "markdown",
   "id": "c75e8de5",
   "metadata": {},
   "source": [
    "# Valid Palindrome"
   ]
  },
  {
   "cell_type": "code",
   "execution_count": 25,
   "id": "ddfc9c06",
   "metadata": {},
   "outputs": [],
   "source": [
    "def isPalindrome(s):\n",
    "    left = 0\n",
    "    right = len(s)-1\n",
    "    while left < right:\n",
    "        while left < right and not s[left].isalnum():\n",
    "            left += 1\n",
    "        while left < right and not s[right].isalnum():\n",
    "            right -= 1\n",
    "\n",
    "        if s[left].lower() != s[right].lower():\n",
    "            return False\n",
    "        else:\n",
    "            right -=1\n",
    "            left += 1\n",
    "    return True"
   ]
  },
  {
   "cell_type": "markdown",
   "id": "4c0dc093",
   "metadata": {},
   "source": [
    "# Valid Palindrome ii"
   ]
  },
  {
   "cell_type": "code",
   "execution_count": 26,
   "id": "8555881e",
   "metadata": {},
   "outputs": [],
   "source": [
    "def validPalindrome(self, s: str) -> bool:\n",
    "    left, right = 0, len(s) - 1\n",
    "    \n",
    "    while left < right:\n",
    "        if s[left] != s[right]:\n",
    "            one, two = s[left:right], s[left + 1:right + 1]\n",
    "            return one == one[::-1] or two == two[::-1]\n",
    "        left, right = left + 1, right - 1\n",
    "    return True"
   ]
  },
  {
   "cell_type": "markdown",
   "id": "9557a54b",
   "metadata": {},
   "source": [
    "# Valid Anagram"
   ]
  },
  {
   "cell_type": "code",
   "execution_count": 27,
   "id": "f04042e1",
   "metadata": {},
   "outputs": [],
   "source": [
    "def isAnagram(s, t):\n",
    "    if len(s) != len(t):\n",
    "        return False\n",
    "    dic = {}\n",
    "\n",
    "    for i in s:\n",
    "        if i not in dic:\n",
    "            dic[i] = 1\n",
    "        else:\n",
    "            dic[i] += 1\n",
    "\n",
    "    for j in t:\n",
    "        if j not in dic:\n",
    "            return False\n",
    "        else:\n",
    "            dic[j] -= 1\n",
    "\n",
    "    for val in dic.values():\n",
    "        if val != 0:\n",
    "            return False\n",
    "\n",
    "    return True"
   ]
  },
  {
   "cell_type": "markdown",
   "id": "8e4c3c47",
   "metadata": {},
   "source": [
    "# Best Time to buy and sell Stock"
   ]
  },
  {
   "cell_type": "code",
   "execution_count": 30,
   "id": "30b3f44f",
   "metadata": {},
   "outputs": [],
   "source": [
    "def maxProfit(prices):\n",
    "        min_price = float('inf')\n",
    "        sell = buy = profit = 0\n",
    "        for i in range(len(prices)):\n",
    "            if prices[i] < min_price:\n",
    "                min_price = prices[i]\n",
    "            else:\n",
    "                profit = max(profit, prices[i] - min_price)\n",
    "        \n",
    "        return profit"
   ]
  },
  {
   "cell_type": "markdown",
   "id": "40ed4b08",
   "metadata": {},
   "source": [
    "# Remove Duplicates from Sorted Array"
   ]
  },
  {
   "cell_type": "code",
   "execution_count": null,
   "id": "1020f671",
   "metadata": {},
   "outputs": [],
   "source": [
    "def removeDuplicates(nums):\n",
    "        # index = 1\n",
    "        # for i in range(1, len(nums)):\n",
    "        #     if nums[i] != nums[i-1]:\n",
    "        #         nums[index] = nums[i]\n",
    "        #         index +=1  \n",
    "        # return index\n",
    "        \n",
    "        i = 1\n",
    "        while i < len(nums):\n",
    "            if nums[i] == nums[i-1]:\n",
    "                nums.pop(i)\n",
    "                i -= 1\n",
    "            i +=1\n",
    "            \n",
    "        return len(nums)"
   ]
  },
  {
   "cell_type": "markdown",
   "id": "a80c798e",
   "metadata": {},
   "source": [
    "# Remove Duplicates from Sorted Array ii"
   ]
  },
  {
   "cell_type": "code",
   "execution_count": 31,
   "id": "859f0ad6",
   "metadata": {},
   "outputs": [],
   "source": [
    "def removeDuplicates(nums):\n",
    "        \n",
    "        i = count = 1\n",
    "        \n",
    "        while i < len(nums):\n",
    "            if nums[i] == nums[i-1]:\n",
    "                count +=1\n",
    "                if count > 2:\n",
    "                    nums.pop(i)\n",
    "                    i -= 1\n",
    "            else:\n",
    "                count = 1\n",
    "            \n",
    "            i += 1\n",
    "                    \n",
    "        return len(nums)"
   ]
  },
  {
   "cell_type": "code",
   "execution_count": null,
   "id": "cc5388d0",
   "metadata": {},
   "outputs": [],
   "source": []
  }
 ],
 "metadata": {
  "kernelspec": {
   "display_name": "Python 3",
   "language": "python",
   "name": "python3"
  },
  "language_info": {
   "codemirror_mode": {
    "name": "ipython",
    "version": 3
   },
   "file_extension": ".py",
   "mimetype": "text/x-python",
   "name": "python",
   "nbconvert_exporter": "python",
   "pygments_lexer": "ipython3",
   "version": "3.8.10"
  }
 },
 "nbformat": 4,
 "nbformat_minor": 5
}
