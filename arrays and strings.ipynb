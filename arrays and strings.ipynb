{
 "cells": [
  {
   "cell_type": "markdown",
   "id": "f0cdc707",
   "metadata": {},
   "source": [
    "# Question 1.1"
   ]
  },
  {
   "cell_type": "markdown",
   "id": "cc204100",
   "metadata": {},
   "source": [
    "You are given a string. Write a function to determine if all of the characters in the string appear only once."
   ]
  },
  {
   "cell_type": "markdown",
   "id": "fed5b9dc",
   "metadata": {},
   "source": [
    "# 1. Brute Force Solution"
   ]
  },
  {
   "cell_type": "code",
   "execution_count": 33,
   "id": "7117c84c",
   "metadata": {},
   "outputs": [],
   "source": [
    "def isUnique(s):\n",
    "    s = sorted(s.lower())\n",
    "    for i in range(1, len(s)):\n",
    "        if s[i] == s[i-1]:\n",
    "            return False\n",
    "    return True\n",
    "        "
   ]
  },
  {
   "cell_type": "markdown",
   "id": "38cf0c9d",
   "metadata": {},
   "source": [
    "# 2. Brute Force Solution Using Set"
   ]
  },
  {
   "cell_type": "code",
   "execution_count": 36,
   "id": "8389efa5",
   "metadata": {},
   "outputs": [],
   "source": [
    "def isUnique(s):\n",
    "    s = s.lower()\n",
    "    seen = set()\n",
    "    for c in s:\n",
    "        if c in seen:\n",
    "            return False\n",
    "        else:\n",
    "            seen.add(c)\n",
    "    return True\n"
   ]
  },
  {
   "cell_type": "markdown",
   "id": "6e693365",
   "metadata": {},
   "source": [
    "# 3. Brute Force Solution Using Bit MAnipulation"
   ]
  },
  {
   "cell_type": "code",
   "execution_count": 37,
   "id": "738eab8c",
   "metadata": {},
   "outputs": [],
   "source": [
    "def isUnique(s):\n",
    "    checker = 0\n",
    "    for i in range(len(s)):\n",
    "        index = ord(s[i])\n",
    "        if 65 <= index <= 90: # check capitalization\n",
    "            index += 32\n",
    "        value = (checker & ((1 << index)))\n",
    "        if value > 0:\n",
    "            return False\n",
    "        checker =  checker | (1 << index)\n",
    "    return True"
   ]
  },
  {
   "cell_type": "markdown",
   "id": "33ac2aa1",
   "metadata": {},
   "source": [
    "# Question 1.2(Check Permutation)"
   ]
  },
  {
   "cell_type": "markdown",
   "id": "640d67de",
   "metadata": {},
   "source": [
    "The input is two strings. Check if the first string is a permutation of the second string.\n",
    "\n"
   ]
  },
  {
   "cell_type": "markdown",
   "id": "dacd6bca",
   "metadata": {},
   "source": [
    "# 1. Brute Force Solution"
   ]
  },
  {
   "cell_type": "code",
   "execution_count": 38,
   "id": "c61f94eb",
   "metadata": {},
   "outputs": [],
   "source": [
    "def permutation(x, y):\n",
    "    if len(x) != len(y):\n",
    "        return False\n",
    "    x, y = sorted(x.lower()), sorted(y.lower())\n",
    "    return x == y"
   ]
  },
  {
   "cell_type": "markdown",
   "id": "44caec73",
   "metadata": {},
   "source": [
    "# 2.Using Dictionary Character Count"
   ]
  },
  {
   "cell_type": "code",
   "execution_count": 39,
   "id": "880ff7b1",
   "metadata": {},
   "outputs": [],
   "source": [
    "def permutation(s1, s2):\n",
    "    if len(s1) != len(s2):\n",
    "        return False\n",
    "\n",
    "    count = {}\n",
    "    for c in s1:\n",
    "        count[c] = count.get(c, 0) + 1\n",
    "    for c in s2:\n",
    "        if c in count:\n",
    "            count[c] -= 1\n",
    "            if count[c] == 0:\n",
    "                del count[c]\n",
    "        else:\n",
    "            return False\n",
    "    return len(count) == 0"
   ]
  },
  {
   "cell_type": "markdown",
   "id": "24b72d87",
   "metadata": {},
   "source": [
    "# Question 1.3"
   ]
  },
  {
   "cell_type": "markdown",
   "id": "88010282",
   "metadata": {},
   "source": [
    "You are given a string with spaces. You want to encode the string as a URL, which means getting rid of the whitespace"
   ]
  },
  {
   "cell_type": "code",
   "execution_count": 40,
   "id": "e6308d92",
   "metadata": {},
   "outputs": [],
   "source": [
    "def urlify(s, i):\n",
    "    p1, p2 = len(s) - 1, i - 1\n",
    "    while p1 >= 0 and p2 >= 0:\n",
    "        if s[p2] != \" \":\n",
    "            s[p1] = s[p2]\n",
    "            p1 -= 1\n",
    "            p2 -= 1\n",
    "        else:\n",
    "            for i in reversed(\"%20\"):\n",
    "                s[p1] = i\n",
    "                p1 -= 1\n",
    "            p2 -= 1"
   ]
  },
  {
   "cell_type": "code",
   "execution_count": null,
   "id": "40b24323",
   "metadata": {},
   "outputs": [],
   "source": [
    "Question 1.4"
   ]
  }
 ],
 "metadata": {
  "kernelspec": {
   "display_name": "Python 3",
   "language": "python",
   "name": "python3"
  },
  "language_info": {
   "codemirror_mode": {
    "name": "ipython",
    "version": 3
   },
   "file_extension": ".py",
   "mimetype": "text/x-python",
   "name": "python",
   "nbconvert_exporter": "python",
   "pygments_lexer": "ipython3",
   "version": "3.8.10"
  }
 },
 "nbformat": 4,
 "nbformat_minor": 5
}
