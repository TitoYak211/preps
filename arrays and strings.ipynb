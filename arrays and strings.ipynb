{
 "cells": [
  {
   "cell_type": "markdown",
   "id": "6442edf1",
   "metadata": {},
   "source": [
    "# Question 1.1"
   ]
  },
  {
   "cell_type": "markdown",
   "id": "62906aa6",
   "metadata": {},
   "source": [
    "You are given a string. Write a function to determine if all of the characters in the string appear only once."
   ]
  },
  {
   "cell_type": "markdown",
   "id": "d8bf0760",
   "metadata": {},
   "source": [
    "# 1. Brute Force Solution"
   ]
  },
  {
   "cell_type": "code",
   "execution_count": 33,
   "id": "c9769589",
   "metadata": {},
   "outputs": [],
   "source": [
    "def isUnique(s):\n",
    "    s = sorted(s.lower())\n",
    "    for i in range(1, len(s)):\n",
    "        if s[i] == s[i-1]:\n",
    "            return False\n",
    "    return True\n",
    "        "
   ]
  },
  {
   "cell_type": "markdown",
   "id": "f0b06a18",
   "metadata": {},
   "source": [
    "# 2. Brute Force Solution Using Set"
   ]
  },
  {
   "cell_type": "code",
   "execution_count": 36,
   "id": "e080dfbf",
   "metadata": {},
   "outputs": [],
   "source": [
    "def isUnique(s):\n",
    "    s = s.lower()\n",
    "    seen = set()\n",
    "    for c in s:\n",
    "        if c in seen:\n",
    "            return False\n",
    "        else:\n",
    "            seen.add(c)\n",
    "    return True\n"
   ]
  },
  {
   "cell_type": "markdown",
   "id": "da4001bf",
   "metadata": {},
   "source": [
    "# 3. Brute Force Solution Using Bit MAnipulation"
   ]
  },
  {
   "cell_type": "code",
   "execution_count": 37,
   "id": "77b7dd23",
   "metadata": {},
   "outputs": [],
   "source": [
    "def isUnique(s):\n",
    "    checker = 0\n",
    "    for i in range(len(s)):\n",
    "        index = ord(s[i])\n",
    "        if 65 <= index <= 90: # check capitalization\n",
    "            index += 32\n",
    "        value = (checker & ((1 << index)))\n",
    "        if value > 0:\n",
    "            return False\n",
    "        checker =  checker | (1 << index)\n",
    "    return True"
   ]
  },
  {
   "cell_type": "markdown",
   "id": "e61f6b4a",
   "metadata": {},
   "source": [
    "# Question 1.2(Check Permutation)"
   ]
  },
  {
   "cell_type": "markdown",
   "id": "7b9f21bd",
   "metadata": {},
   "source": [
    "The input is two strings. Check if the first string is a permutation of the second string.\n",
    "\n"
   ]
  },
  {
   "cell_type": "markdown",
   "id": "bde79cb6",
   "metadata": {},
   "source": [
    "# 1. Brute Force Solution"
   ]
  },
  {
   "cell_type": "code",
   "execution_count": 38,
   "id": "ef19d663",
   "metadata": {},
   "outputs": [],
   "source": [
    "def permutation(x, y):\n",
    "    if len(x) != len(y):\n",
    "        return False\n",
    "    x, y = sorted(x.lower()), sorted(y.lower())\n",
    "    return x == y"
   ]
  },
  {
   "cell_type": "markdown",
   "id": "7cf13228",
   "metadata": {},
   "source": [
    "# 2.Using Dictionary Character Count"
   ]
  },
  {
   "cell_type": "code",
   "execution_count": 39,
   "id": "57ae5937",
   "metadata": {},
   "outputs": [],
   "source": [
    "def permutation(s1, s2):\n",
    "    if len(s1) != len(s2):\n",
    "        return False\n",
    "\n",
    "    count = {}\n",
    "    for c in s1:\n",
    "        count[c] = count.get(c, 0) + 1\n",
    "    for c in s2:\n",
    "        if c in count:\n",
    "            count[c] -= 1\n",
    "            if count[c] == 0:\n",
    "                del count[c]\n",
    "        else:\n",
    "            return False\n",
    "    return len(count) == 0"
   ]
  },
  {
   "cell_type": "code",
   "execution_count": null,
   "id": "d606e92f",
   "metadata": {},
   "outputs": [],
   "source": []
  }
 ],
 "metadata": {
  "kernelspec": {
   "display_name": "Python 3",
   "language": "python",
   "name": "python3"
  },
  "language_info": {
   "codemirror_mode": {
    "name": "ipython",
    "version": 3
   },
   "file_extension": ".py",
   "mimetype": "text/x-python",
   "name": "python",
   "nbconvert_exporter": "python",
   "pygments_lexer": "ipython3",
   "version": "3.8.10"
  }
 },
 "nbformat": 4,
 "nbformat_minor": 5
}
