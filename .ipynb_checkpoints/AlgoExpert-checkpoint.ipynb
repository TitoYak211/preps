{
 "cells": [
  {
   "cell_type": "markdown",
   "id": "c06098bd",
   "metadata": {},
   "source": [
    "# Two Number Sum"
   ]
  },
  {
   "cell_type": "markdown",
   "id": "049177eb",
   "metadata": {},
   "source": [
    "- Loop through each element x and find if there is another value that equals to target - x.\n",
    "- Time complexity : O(n^2). For each element, we try to find its complement by looping through the rest of array which takes O(n)O(n) time. Therefore, the time complexity is O(n^2)\n",
    "- Space complexity : O(1)"
   ]
  },
  {
   "cell_type": "code",
   "execution_count": 1,
   "id": "74ff8929",
   "metadata": {},
   "outputs": [],
   "source": [
    "def two_number_sum(array, target):\n",
    "    for i in range(len(array)-1):\n",
    "        for j in range(len(array)-1):\n",
    "            if array[i] + array[j] == target:\n",
    "                return [array[i], array[j]]\n",
    "    return []"
   ]
  },
  {
   "cell_type": "markdown",
   "id": "c3d07c07",
   "metadata": {},
   "source": [
    "One-pass Hash Table"
   ]
  },
  {
   "cell_type": "code",
   "execution_count": 2,
   "id": "3a7c13be",
   "metadata": {},
   "outputs": [],
   "source": [
    "def two_number_sum(array, target):\n",
    "    num_dict = {}\n",
    "    for x in array:\n",
    "        if target-x in num_dict:\n",
    "            return [target -x, x]\n",
    "        else:\n",
    "            num_dict[x] = True\n",
    "    return []"
   ]
  },
  {
   "cell_type": "code",
   "execution_count": 3,
   "id": "d023fb12",
   "metadata": {},
   "outputs": [],
   "source": [
    "def two_number_sum(array, target):\n",
    "    array.sort()\n",
    "    left = 0\n",
    "    right = len(array)-1\n",
    "    while left < right:\n",
    "        if array[left]+array[right] == target:\n",
    "            return [array[left], array[right]]\n",
    "        elif array[left]+array[right] < target:\n",
    "            left += 1\n",
    "        elif array[left]+array[right] > target:\n",
    "            right -= 1\n",
    "    return []"
   ]
  },
  {
   "cell_type": "markdown",
   "id": "448a91d6",
   "metadata": {},
   "source": [
    "# Three Number Sum"
   ]
  },
  {
   "cell_type": "code",
   "execution_count": 4,
   "id": "d46709ab",
   "metadata": {},
   "outputs": [],
   "source": [
    "def threenumbersum(array, targetSum):\n",
    "    array.sort()\n",
    "    triplets = []\n",
    "    for i in range(len(array)-2):\n",
    "        left = i + 1\n",
    "        right = len(array)-1\n",
    "        \n",
    "        while left < right:\n",
    "            current_sum = array[i] + array[left] + array[right]\n",
    "            if current_sum == targetSum:\n",
    "                triplets.append([array[i], array[left], array[right]])\n",
    "                left +=1\n",
    "                right -=1\n",
    "            elif current_sum < targetSum:\n",
    "                left += 1\n",
    "            elif current_sum > targetSum:\n",
    "                right -= 1\n",
    "    return triplets"
   ]
  },
  {
   "cell_type": "markdown",
   "id": "8fd38385",
   "metadata": {},
   "source": [
    "# Four Number Sum"
   ]
  },
  {
   "cell_type": "code",
   "execution_count": 5,
   "id": "94161be9",
   "metadata": {},
   "outputs": [],
   "source": [
    "def fournumbersum(array, targetSum):\n",
    "    quadruples = []\n",
    "    all_pair_sums = {}\n",
    "    for i in range(1, len(array)-1):\n",
    "        for j in range(i+1, len(array)):\n",
    "            p = array[i] + array[j]\n",
    "            q = targetSum - p\n",
    "            if q in all_pair_sums:\n",
    "                for pair in all_pair_sums[q]:\n",
    "                    quadruples.append(pair + [array[i], array[j]])\n",
    "        for k in range(i):\n",
    "            q = array[k] + array[i]\n",
    "            if q in all_pair_sums:\n",
    "                all_pair_sums[q].append([array[k], array[i]])\n",
    "            else:\n",
    "                all_pair_sums[q] = [array[k], array[i]]\n",
    "    return quadruples"
   ]
  },
  {
   "cell_type": "markdown",
   "id": "0b824d59",
   "metadata": {},
   "source": [
    "# Validate Subsequence"
   ]
  },
  {
   "cell_type": "markdown",
   "id": "2c0fcd3e",
   "metadata": {},
   "source": [
    "Using WHILE loop"
   ]
  },
  {
   "cell_type": "code",
   "execution_count": 3,
   "id": "57e5b082",
   "metadata": {},
   "outputs": [],
   "source": [
    "def validateseubsequence(array, sequence):\n",
    "    \n",
    "    array_index = 0\n",
    "    \n",
    "    sequence_index = 0\n",
    "    \n",
    "    while array_index < len(array) and sequence_index < len(sequence):\n",
    "        \n",
    "        if array[array_index] == sequence[sequence_index]:\n",
    "            \n",
    "            sequence_index +=1\n",
    "            \n",
    "        array_index +=1\n",
    "        \n",
    "    return sequence_index == len(sequence)\n"
   ]
  },
  {
   "cell_type": "markdown",
   "id": "504fd08f",
   "metadata": {},
   "source": [
    "Using FOR loop"
   ]
  },
  {
   "cell_type": "code",
   "execution_count": 5,
   "id": "4610219a",
   "metadata": {},
   "outputs": [],
   "source": [
    "def validateseubsequence(array, sequence):\n",
    "    \n",
    "    sequence_index = 0\n",
    "    \n",
    "    for num in array:\n",
    "        \n",
    "        if sequence_index == len(sequence):\n",
    "            break\n",
    "            \n",
    "        if value == sequence[sequence_index]:\n",
    "            sequence_index +=1\n",
    "            \n",
    "    return sequence_index == len(sequence)\n"
   ]
  },
  {
   "cell_type": "code",
   "execution_count": null,
   "id": "e072b240",
   "metadata": {},
   "outputs": [],
   "source": []
  },
  {
   "cell_type": "code",
   "execution_count": 6,
   "id": "2679b36d",
   "metadata": {},
   "outputs": [],
   "source": [
    "def smallestDifference(arrayOne, arrayTwo):\n",
    "    arrayOne.sort()\n",
    "    arrayTwo.sort()\n",
    "    index_1 = 0\n",
    "    index_2 = 0\n",
    "    smallest_dist = float(\"inf\")\n",
    "    smallest_pair = []\n",
    "    while index_1 < len(arrayOne) and index_2 < len(arrayTwo):\n",
    "        x = arrayOne[index_1]\n",
    "        y = arrayTwo[index_2]\n",
    "        d = abs(x - y)\n",
    "        if x < y:\n",
    "            index_1 += 1\n",
    "        elif x > y:\n",
    "            index_2 += 1\n",
    "        else:\n",
    "            return [x, y]\n",
    "        if smallest_dist > d:\n",
    "            smallest_dist = d\n",
    "            smallest_pair = [x, y]\n",
    "    return smallest_pair\n"
   ]
  },
  {
   "cell_type": "markdown",
   "id": "d26e2068",
   "metadata": {},
   "source": [
    "# Sorted Square Array"
   ]
  },
  {
   "cell_type": "markdown",
   "id": "e91907da",
   "metadata": {},
   "source": [
    "O(nlogn) --- because of sorting operation on squares array"
   ]
  },
  {
   "cell_type": "code",
   "execution_count": 7,
   "id": "d0467ae2",
   "metadata": {},
   "outputs": [],
   "source": [
    "def sortedSquaredArray(array):\n",
    "    \n",
    "    squares = []\n",
    "    for num in array:\n",
    "        squares.append(num*num)\n",
    "    squares.sort()\n",
    "    return squares\n"
   ]
  },
  {
   "cell_type": "markdown",
   "id": "81c1938e",
   "metadata": {},
   "source": [
    "O(N)"
   ]
  },
  {
   "cell_type": "code",
   "execution_count": 8,
   "id": "8543b5b9",
   "metadata": {},
   "outputs": [],
   "source": [
    "def sortedSquaredArray(array):\n",
    "    \n",
    "    left = 0\n",
    "    right = len(array)-1\n",
    "    squares = [0 for _ in array]\n",
    "\n",
    "    for i in reversed(range(len(array))):\n",
    "        if abs(array[left]) > abs(array[right]):\n",
    "            squares[i] = array[left]*array[left]\n",
    "            left +=1\n",
    "        else:\n",
    "            squares[i] = array[right]*array[right]\n",
    "            right -=1\n",
    "    return squares\n"
   ]
  },
  {
   "cell_type": "markdown",
   "id": "d2689aa4",
   "metadata": {},
   "source": [
    "Tournament Winner"
   ]
  },
  {
   "cell_type": "code",
   "execution_count": 10,
   "id": "7420793b",
   "metadata": {},
   "outputs": [],
   "source": [
    "def tournamentWinner(competitions, results):\n",
    "    teams = {}\n",
    "\n",
    "    for pair in competitions:\n",
    "        teams[pair[0]] = 0\n",
    "        teams[pair[1]] = 0\n",
    "    for i in range(len(results)):\n",
    "        if results[i] == 1:\n",
    "            teams[competitions[i][0]] += 3\n",
    "        else:\n",
    "            teams[competitions[i][1]] += 3\n",
    "            \n",
    "            \n",
    "    return max(teams, key=teams.get)\n"
   ]
  },
  {
   "cell_type": "markdown",
   "id": "94929668",
   "metadata": {},
   "source": [
    "# Find the Closest Value in BST"
   ]
  },
  {
   "cell_type": "code",
   "execution_count": 12,
   "id": "94161b0a",
   "metadata": {},
   "outputs": [],
   "source": [
    "def findClosestValue(tree, target):\n",
    "    return helper(tree, target, float(\"inf\"))\n",
    "\n",
    "def helper(tree, target, closest):\n",
    "    if tree is None:\n",
    "        return closest\n",
    "    if abs(target - closest) > abs(target - tree.value):\n",
    "        closest = tree.value\n",
    "    if target < tree.value:\n",
    "        return helper(tree.left, target, closest)\n",
    "    elif target > tree.value:\n",
    "        return helper(tree.right, target, closest)\n",
    "    else:\n",
    "        return tree.value"
   ]
  },
  {
   "cell_type": "markdown",
   "id": "d398902b",
   "metadata": {},
   "source": [
    "# Branch Sums of BST"
   ]
  },
  {
   "cell_type": "code",
   "execution_count": 13,
   "id": "0f929d80",
   "metadata": {},
   "outputs": [],
   "source": [
    "# This is the class of the input root. Do not edit it.\n",
    "class BinaryTree:\n",
    "    def __init__(self, value):\n",
    "        self.value = value\n",
    "        self.left = None\n",
    "        self.right = None\n",
    "\n",
    "\n",
    "def branchSums(root):\n",
    "    # Write your code here.\n",
    "\tsums = []\n",
    "\tcalculateBranchSums(root, 0, sums)\n",
    "\treturn sums\n",
    "\n",
    "def calculateBranchSums(node, currentSum, sums):\n",
    "\tif node is None:\n",
    "\t\treturn\n",
    "\t\n",
    "\tnewCurrentSum = currentSum + node.value\n",
    "\t\n",
    "\tif node.left is None and node.right is None:\n",
    "\t\tsums.append(newCurrentSum)\n",
    "\t\t\n",
    "\tcalculateBranchSums(node.left, newCurrentSum, sums)\n",
    "\tcalculateBranchSums(node.right, newCurrentSum, sums)\n"
   ]
  },
  {
   "cell_type": "markdown",
   "id": "1c41be55",
   "metadata": {},
   "source": [
    "# Node Depth"
   ]
  },
  {
   "cell_type": "code",
   "execution_count": 20,
   "id": "f323ea0f",
   "metadata": {},
   "outputs": [],
   "source": [
    "def nodeDepths(root):\n",
    "    sums = 0\n",
    "    stack = [{\"node\": root, \"depth\": 0}]\n",
    "    \n",
    "    while len(stack)> 0:\n",
    "        currentnode = stack.pop()\n",
    "        node = currentnode[\"node\"]\n",
    "        depth = currentnode[\"depth\"]\n",
    "        \n",
    "        if node is None:\n",
    "            continue\n",
    "        sums += depth\n",
    "        \n",
    "        stack.append({\"node\": node.left, \"depth\": depth + 1})\n",
    "        stack.append({\"node\": node.right, \"depth\": depth + 1})\n",
    "    return sums"
   ]
  },
  {
   "cell_type": "markdown",
   "id": "cfaa4b6c",
   "metadata": {},
   "source": [
    "# Depth First Search"
   ]
  },
  {
   "cell_type": "code",
   "execution_count": 21,
   "id": "11a50291",
   "metadata": {},
   "outputs": [],
   "source": [
    "class Node:\n",
    "    def __init__(self, name):\n",
    "        self.children = []\n",
    "        self.name = name\n",
    "\n",
    "    def addChild(self, name):\n",
    "        self.children.append(Node(name))\n",
    "        return self\n",
    "\n",
    "    def depthFirstSearch(self, array):\n",
    "        array.append(self.name)\n",
    "        \n",
    "        for child in self.children:\n",
    "            child.depthFirstSearch(array)\n",
    "            \n",
    "        return array"
   ]
  },
  {
   "cell_type": "code",
   "execution_count": 23,
   "id": "0a08c6c8",
   "metadata": {},
   "outputs": [],
   "source": [
    "lst = [1,2,2,3]"
   ]
  },
  {
   "cell_type": "code",
   "execution_count": 26,
   "id": "7147bab2",
   "metadata": {},
   "outputs": [
    {
     "data": {
      "text/plain": [
       "3"
      ]
     },
     "execution_count": 26,
     "metadata": {},
     "output_type": "execute_result"
    }
   ],
   "source": [
    "len(lst[1:])"
   ]
  },
  {
   "cell_type": "markdown",
   "id": "b5208d00",
   "metadata": {},
   "source": [
    "# Minimum Wait Time"
   ]
  },
  {
   "cell_type": "code",
   "execution_count": 28,
   "id": "247853bd",
   "metadata": {},
   "outputs": [],
   "source": [
    "def minimumWaitingTime(queries):\n",
    "    queries.sort()\n",
    "    \n",
    "    wait_time = 0\n",
    "    \n",
    "    for index, query in enumerate(queries):\n",
    "        \n",
    "        wait_time += query * len(queries[index+1:])\n",
    "        \n",
    "    return wait_time\n"
   ]
  },
  {
   "cell_type": "markdown",
   "id": "961f91b6",
   "metadata": {},
   "source": [
    "# Class Photo"
   ]
  },
  {
   "cell_type": "code",
   "execution_count": 29,
   "id": "bedfc165",
   "metadata": {},
   "outputs": [],
   "source": [
    "def classPhotos(redShirtHeights, blueShirtHeights):\n",
    "    \n",
    "\tredShirtHeights.sort()\n",
    "\tblueShirtHeights.sort()\n",
    "\t\n",
    "\tif redShirtHeights[0] < blueShirtHeights[0]:\n",
    "\t\tfirst_row = \"red\"\n",
    "\telse:\n",
    "\t\tfirst_row = \"blue\"\n",
    "\t\t\n",
    "\tfor index in range(len(redShirtHeights)):\n",
    "\t\tif first_row == \"red\":\n",
    "\t\t\tif redShirtHeights[index] >= blueShirtHeights[index]:\n",
    "\t\t\t\treturn False\n",
    "\t\telse:\n",
    "\t\t\tif blueShirtHeights[index] >= redShirtHeights[index]:\n",
    "\t\t\t\treturn False\n",
    "\t\t\t"
   ]
  },
  {
   "cell_type": "markdown",
   "id": "5bb10590",
   "metadata": {},
   "source": [
    "# Tandem Bicycle"
   ]
  },
  {
   "cell_type": "code",
   "execution_count": null,
   "id": "c8c572d5",
   "metadata": {},
   "outputs": [],
   "source": []
  },
  {
   "cell_type": "markdown",
   "id": "0a68586a",
   "metadata": {},
   "source": [
    "# Removing Duplicates in a LinkedList"
   ]
  },
  {
   "cell_type": "code",
   "execution_count": 34,
   "id": "6f9665eb",
   "metadata": {},
   "outputs": [],
   "source": [
    "class LinkedList:\n",
    "    def __init__(self, value):\n",
    "        self.value = value\n",
    "        self.next = None\n",
    "\n",
    "\n",
    "def removeDuplicatesFromLinkedList(linkedList):\n",
    "    currentNode = linkedList\n",
    "\n",
    "    while currentNode is not None:\n",
    "        nextNode = currentNode.next\n",
    "\n",
    "        while nextNode is not None and currentNode.value == nextNode.value:\n",
    "            nextNode = nextNode.next\n",
    "        currentNode.next = nextNode\n",
    "        currentNode = nextNode\n",
    "    return linkedList\n"
   ]
  },
  {
   "cell_type": "code",
   "execution_count": 1,
   "id": "53e23c10",
   "metadata": {},
   "outputs": [],
   "source": [
    "def deleteDuplicates(head):\n",
    "        currentNode = head\n",
    "        if head:\n",
    "            nextNode = head.next\n",
    "        else:\n",
    "            nextNode = None\n",
    "            \n",
    "        while nextNode:\n",
    "            if currentNode.val == nextNode.val:\n",
    "                nextNode = nextNode.next\n",
    "                currentNode.next = nextNode\n",
    "            else:\n",
    "                currentNode = nextNode\n",
    "                nextNode = nextNode.next\n",
    "                \n",
    "        return head\n",
    "        "
   ]
  },
  {
   "cell_type": "markdown",
   "id": "33334b78",
   "metadata": {},
   "source": [
    "# Nth Fibonaci"
   ]
  },
  {
   "cell_type": "code",
   "execution_count": 35,
   "id": "b67d0165",
   "metadata": {},
   "outputs": [],
   "source": [
    "def getNthFib(n):\n",
    "    if n == 1:\n",
    "        return 0\n",
    "    elif n == 2:\n",
    "        return 1\n",
    "    else:\n",
    "        return getNthFib(n - 1) + getNthFib(n - 2)\n"
   ]
  },
  {
   "cell_type": "markdown",
   "id": "726f0d40",
   "metadata": {},
   "source": [
    "# ProductSum"
   ]
  },
  {
   "cell_type": "code",
   "execution_count": 36,
   "id": "2db16731",
   "metadata": {},
   "outputs": [],
   "source": [
    "def productSum(array, depth = 1):\n",
    "    product_sum = 0\n",
    "    for item in array:\n",
    "        if type(item) is int:\n",
    "            product_sum += item\n",
    "        else:\n",
    "            product_sum += productSum(item, depth + 1)\n",
    "    return product_sum * depth"
   ]
  },
  {
   "cell_type": "markdown",
   "id": "1fe17402",
   "metadata": {},
   "source": [
    "# Binary Search"
   ]
  },
  {
   "cell_type": "markdown",
   "id": "4c14620f",
   "metadata": {},
   "source": [
    "Recursively"
   ]
  },
  {
   "cell_type": "code",
   "execution_count": 37,
   "id": "9842f5eb",
   "metadata": {},
   "outputs": [],
   "source": [
    "def binarySearch(array, target):\n",
    "    # Write your code here.\n",
    "\treturn binarySearchHelper(array, target, 0, len(array) - 1)\n",
    "\n",
    "\n",
    "def binarySearchHelper(array, target, left, right):\n",
    "\tif left > right:\n",
    "\t\treturn -1\n",
    "\t\n",
    "\tmiddle = (left + right)// 2\n",
    "\t\n",
    "\tmatch = array[middle]\n",
    "\t\n",
    "\tif target == match:\n",
    "\t\treturn middle\n",
    "\telif target < match:\n",
    "\t\treturn binarySearchHelper(array, target, left, middle - 1)\n",
    "\telse:\n",
    "\t\treturn binarySearchHelper(array, target, middle + 1, right)"
   ]
  },
  {
   "cell_type": "markdown",
   "id": "5d32f221",
   "metadata": {},
   "source": [
    "Iteratively"
   ]
  },
  {
   "cell_type": "code",
   "execution_count": 38,
   "id": "32e36714",
   "metadata": {},
   "outputs": [],
   "source": [
    "def binarySearch(array, target):\n",
    "    left = 0\n",
    "    right = len(array)- 1\n",
    "    \n",
    "    while left <= right:\n",
    "        middle = (left + right)// 2\n",
    "        \n",
    "        match = array[middle]\n",
    "        \n",
    "        if target == match:\n",
    "            return middle\n",
    "        elif target < match:\n",
    "            right = middle - 1\n",
    "        else:\n",
    "            left = middle + 1\n",
    "    return -1"
   ]
  },
  {
   "cell_type": "markdown",
   "id": "269baa03",
   "metadata": {},
   "source": [
    "# Find 3 Largest Numbers"
   ]
  },
  {
   "cell_type": "markdown",
   "id": "344da423",
   "metadata": {},
   "source": [
    "# Bubble Sort"
   ]
  },
  {
   "cell_type": "markdown",
   "id": "446b0f48",
   "metadata": {},
   "source": [
    "sorting algorithm that repeatedly steps through the list, compares adjacent elements and swaps them if they are in the wrong order. The pass through the list is repeated until the list is sorted."
   ]
  },
  {
   "cell_type": "code",
   "execution_count": 41,
   "id": "20982119",
   "metadata": {},
   "outputs": [],
   "source": [
    "def bubbleSort(array):\n",
    "    index = 0\n",
    "    while index < len(array):\n",
    "        for i in range(len(array) -(1 + index)):\n",
    "            if array[i] > array[i+1]:\n",
    "                temp = array[i]\n",
    "                array[i]= array[i+1]\n",
    "                array[i+1] = temp\n",
    "        index +=1\n",
    "    return array"
   ]
  },
  {
   "cell_type": "markdown",
   "id": "4061ccd7",
   "metadata": {},
   "source": [
    "# Insertion Sort"
   ]
  },
  {
   "cell_type": "code",
   "execution_count": 42,
   "id": "d3a8d05b",
   "metadata": {},
   "outputs": [],
   "source": [
    "def insertionSort(array):\n",
    "    for i in range(len(array)):\n",
    "        \n",
    "        while i > 0 and array[i] < array[i - 1]:\n",
    "            array[i], array[i-1] = array[i-1], array[i]\n",
    "            i -= 1\n",
    "    return array"
   ]
  },
  {
   "cell_type": "code",
   "execution_count": null,
   "id": "14743d57",
   "metadata": {},
   "outputs": [],
   "source": []
  },
  {
   "cell_type": "markdown",
   "id": "36898e77",
   "metadata": {},
   "source": [
    "# Selection Sort"
   ]
  },
  {
   "cell_type": "markdown",
   "id": "c7ffc562",
   "metadata": {},
   "source": [
    "The array is virtually split into a sorted and an unsorted part. Values from the unsorted part are picked and placed at the correct position in the sorted part."
   ]
  },
  {
   "cell_type": "code",
   "execution_count": 43,
   "id": "3b1c2845",
   "metadata": {},
   "outputs": [],
   "source": [
    "def selectionSort(array):\n",
    "    currentIndex = 0\n",
    "    \n",
    "    while currentIndex < len(array) - 1:\n",
    "        smallest_at = currentIndex\n",
    "        \n",
    "        for i in range(currentIndex+1, len(array)):\n",
    "            if array[smallest_at] > array[i]:\n",
    "                smallest_at = i\n",
    "                \n",
    "        array[currentIndex], array[smallest_at] = array[smallest_at], array[currentIndex]\n",
    "        \n",
    "        currentIndex +=1\n",
    "        \n",
    "    return array\n",
    "\n",
    "    "
   ]
  },
  {
   "cell_type": "code",
   "execution_count": null,
   "id": "0c9eff94",
   "metadata": {},
   "outputs": [],
   "source": []
  }
 ],
 "metadata": {
  "kernelspec": {
   "display_name": "Python 3",
   "language": "python",
   "name": "python3"
  },
  "language_info": {
   "codemirror_mode": {
    "name": "ipython",
    "version": 3
   },
   "file_extension": ".py",
   "mimetype": "text/x-python",
   "name": "python",
   "nbconvert_exporter": "python",
   "pygments_lexer": "ipython3",
   "version": "3.8.10"
  }
 },
 "nbformat": 4,
 "nbformat_minor": 5
}
