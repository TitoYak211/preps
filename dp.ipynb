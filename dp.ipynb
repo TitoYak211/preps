{
 "cells": [
  {
   "cell_type": "markdown",
   "id": "a42a6290",
   "metadata": {},
   "source": [
    "# Max Subset Sum No Adjacent"
   ]
  },
  {
   "cell_type": "code",
   "execution_count": 5,
   "id": "1889a0a5",
   "metadata": {},
   "outputs": [],
   "source": [
    "def maxSubsetSumNoAdjacent(array):\n",
    "    if not array:\n",
    "        return 0\n",
    "    elif len(array) == 1:\n",
    "        return array[0]\n",
    "    max_sum = array[:]\n",
    "    max_sum[1] = max(array[0], array[1])\n",
    "\n",
    "    for i in range(2, len(array)):\n",
    "        max_sum[i] = max(max_sum[i-1], max_sum[i-2]+ array[i])\n",
    "    return max_sum[-1]\n"
   ]
  },
  {
   "cell_type": "code",
   "execution_count": 6,
   "id": "91d1b487",
   "metadata": {},
   "outputs": [],
   "source": [
    "def maxSubsetSumNoAdjacent(array):\n",
    "    if not array:\n",
    "        return 0\n",
    "    elif len(array) == 1:\n",
    "        return array[0]\n",
    "    \n",
    "    first = array[0]\n",
    "    second = max(array[0], array[1])\n",
    "    for i, x in enumerate(array[2:]):\n",
    "        current = max(second, first + x)\n",
    "        first = second\n",
    "        second = current\n",
    "    return second"
   ]
  },
  {
   "cell_type": "markdown",
   "id": "66124faa",
   "metadata": {},
   "source": [
    "# Coin Change -- The fewest number of coins needed to make up the given target amount."
   ]
  },
  {
   "cell_type": "code",
   "execution_count": 8,
   "id": "ba17c45b",
   "metadata": {},
   "outputs": [],
   "source": [
    "def coinChange(coins, amount):\n",
    "        dp = [amount + 1] * (amount + 1)\n",
    "        \n",
    "        dp[0] = 0\n",
    "        \n",
    "        for a in range(1, amount + 1):\n",
    "            for coin in coins:\n",
    "                if (a - coin) >= 0:\n",
    "                    dp[a] = min(dp[a], dp[a - coin] + 1)\n",
    "                \n",
    "        return dp[amount] if dp[amount] != (amount + 1) else -1 "
   ]
  },
  {
   "cell_type": "code",
   "execution_count": null,
   "id": "f72ccd4f",
   "metadata": {},
   "outputs": [],
   "source": []
  }
 ],
 "metadata": {
  "kernelspec": {
   "display_name": "Python 3",
   "language": "python",
   "name": "python3"
  },
  "language_info": {
   "codemirror_mode": {
    "name": "ipython",
    "version": 3
   },
   "file_extension": ".py",
   "mimetype": "text/x-python",
   "name": "python",
   "nbconvert_exporter": "python",
   "pygments_lexer": "ipython3",
   "version": "3.8.10"
  }
 },
 "nbformat": 4,
 "nbformat_minor": 5
}
