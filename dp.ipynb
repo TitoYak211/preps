{
 "cells": [
  {
   "cell_type": "markdown",
   "id": "315e7c2e",
   "metadata": {},
   "source": [
    "# Max Subset Sum No Adjacent"
   ]
  },
  {
   "cell_type": "code",
   "execution_count": 5,
   "id": "cb616d2b",
   "metadata": {},
   "outputs": [],
   "source": [
    "def maxSubsetSumNoAdjacent(array):\n",
    "    if not array:\n",
    "        return 0\n",
    "    elif len(array) == 1:\n",
    "        return array[0]\n",
    "    max_sum = array[:]\n",
    "    max_sum[1] = max(array[0], array[1])\n",
    "\n",
    "    for i in range(2, len(array)):\n",
    "        max_sum[i] = max(max_sum[i-1], max_sum[i-2]+ array[i])\n",
    "    return max_sum[-1]\n"
   ]
  },
  {
   "cell_type": "code",
   "execution_count": 6,
   "id": "bbdd4b78",
   "metadata": {},
   "outputs": [],
   "source": [
    "def maxSubsetSumNoAdjacent(array):\n",
    "    if not array:\n",
    "        return 0\n",
    "    elif len(array) == 1:\n",
    "        return array[0]\n",
    "    \n",
    "    first = array[0]\n",
    "    second = max(array[0], array[1])\n",
    "    for i, x in enumerate(array[2:]):\n",
    "        current = max(second, first + x)\n",
    "        first = second\n",
    "        second = current\n",
    "    return second"
   ]
  },
  {
   "cell_type": "code",
   "execution_count": null,
   "id": "1a85ac40",
   "metadata": {},
   "outputs": [],
   "source": []
  }
 ],
 "metadata": {
  "kernelspec": {
   "display_name": "Python 3",
   "language": "python",
   "name": "python3"
  },
  "language_info": {
   "codemirror_mode": {
    "name": "ipython",
    "version": 3
   },
   "file_extension": ".py",
   "mimetype": "text/x-python",
   "name": "python",
   "nbconvert_exporter": "python",
   "pygments_lexer": "ipython3",
   "version": "3.8.10"
  }
 },
 "nbformat": 4,
 "nbformat_minor": 5
}
